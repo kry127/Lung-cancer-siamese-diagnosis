{
 "cells": [
  {
   "cell_type": "code",
   "execution_count": 1,
   "metadata": {},
   "outputs": [],
   "source": [
    "# init\n",
    "import re\n",
    "import os\n",
    "import numpy as np\n",
    "import matplotlib.pyplot as plt\n",
    "import matplotlib.animation as animation\n",
    "from matplotlib.widgets import Slider, Button, RadioButtons\n",
    "\n",
    "%matplotlib qt\n",
    "\n",
    "plt.rcParams['animation.ffmpeg_path'] = 'C:/Program Files/ffmpeg/bin/ffmpeg.exe'\n",
    "\n",
    "\n",
    "visualisation_folder = \"Visualisation/6_30052019_1\"\n",
    "vis_regexp = 'vis_(\\d\\d\\d\\d).npy'"
   ]
  },
  {
   "cell_type": "code",
   "execution_count": 2,
   "metadata": {},
   "outputs": [],
   "source": [
    "# read actual file list\n",
    "vis_regexp = re.compile(vis_regexp)\n",
    "visualizations = os.listdir(visualisation_folder)\n",
    "vis_list = filter(lambda s: vis_regexp.match(s) != None, visualizations)\n",
    "vis_list = map(lambda f: np.loadtxt(os.path.join(visualisation_folder, f)), vis_list)\n",
    "vis_list = list(vis_list)"
   ]
  },
  {
   "cell_type": "code",
   "execution_count": 7,
   "metadata": {},
   "outputs": [],
   "source": [
    "# https://matplotlib.org/users/pyplot_tutorial.html\n",
    "\n",
    "\n",
    "\n",
    "N = 0\n",
    "vis = vis_list[N]\n",
    "id_train_benign = np.where(vis[:,0] == 0)\n",
    "id_train_malignant = np.where(vis[:,0] == 1)\n",
    "id_validation_benign = np.where(vis[:,0] == 2)\n",
    "id_validation_malignant = np.where(vis[:,0] == 3)\n",
    "\n",
    "\n",
    "fig, ax = plt.subplots()\n",
    "ax.clear()\n",
    "fig.clear()\n",
    "sp1 = fig.add_subplot(1, 1, 1)\n",
    "plt.subplots_adjust(left=0.25, bottom=0.25)\n",
    "\n",
    "\n",
    "# https://matplotlib.org/2.1.1/api/_as_gen/matplotlib.pyplot.plot.html\n",
    "sp1.plot(vis[id_train_benign,1], vis[id_train_benign,2], 'b.')\n",
    "sp1.plot(vis[id_train_malignant,1], vis[id_train_malignant,2], 'r.')\n",
    "sp1.plot(vis[id_validation_benign,1], vis[id_validation_benign,2], 'b+')\n",
    "sp1.plot(vis[id_validation_malignant,1], vis[id_validation_malignant,2], 'r+')\n",
    "\n",
    "\n",
    "axcolor = 'lightgoldenrodyellow'\n",
    "axepoch = plt.axes([0.25, 0.1, 0.65, 0.03], facecolor=axcolor)\n",
    "prevax = plt.axes([0.7, 0.025, 0.1, 0.04])\n",
    "nextax = plt.axes([0.8, 0.025, 0.1, 0.04])\n",
    "\n",
    "sepoch = Slider(axepoch, 'Epoch', 1, len(vis_list), valinit=N, valstep=1)\n",
    "bprev = Button(prevax, '<-', color=axcolor, hovercolor='0.975')\n",
    "bnext = Button(nextax, '->', color=axcolor, hovercolor='0.975')\n",
    "\n",
    "\n",
    "def update(val):\n",
    "    N = int(sepoch.val) - 1\n",
    "    vis = vis_list[N]\n",
    "    id_train_benign = np.where(vis[:,0] == 0)\n",
    "    id_train_malignant = np.where(vis[:,0] == 1)\n",
    "    id_validation_benign = np.where(vis[:,0] == 2)\n",
    "    id_validation_malignant = np.where(vis[:,0] == 3)\n",
    "    \n",
    "    sp1.clear()\n",
    "    \n",
    "    sp1.plot(vis[id_train_benign,1], vis[id_train_benign,2], 'b.')\n",
    "    sp1.plot(vis[id_train_malignant,1], vis[id_train_malignant,2], 'r.')\n",
    "    sp1.plot(vis[id_validation_benign,1], vis[id_validation_benign,2], 'b+')\n",
    "    sp1.plot(vis[id_validation_malignant,1], vis[id_validation_malignant,2], 'r+')\n",
    "    \n",
    "\n",
    "def _prev(val):\n",
    "    N = int(sepoch.val)\n",
    "    if (N > 1):\n",
    "        N -= 1\n",
    "    sepoch.set_val(N)\n",
    "    update(val)\n",
    "    \n",
    "def _next(val):\n",
    "    N = int(sepoch.val)\n",
    "    if (N < len(vis_list)):\n",
    "        N += 1\n",
    "    sepoch.set_val(N)\n",
    "    update(val)\n",
    "bprev.on_clicked(_prev)\n",
    "bnext.on_clicked(_next)\n",
    "    \n",
    "\n",
    "    \n",
    "sepoch.on_changed(update)\n",
    "\n",
    "plt.show()\n",
    "\n",
    "pass"
   ]
  },
  {
   "cell_type": "code",
   "execution_count": 6,
   "metadata": {},
   "outputs": [],
   "source": [
    "# make animation\n",
    "# https://matplotlib.org/2.1.2/gallery/animation/basic_example.html\n",
    "# https://mikulskibartosz.name/interactive-plots-in-jupyter-notebook-55b32b8d143\n",
    "# https://stackoverflow.com/questions/25111040/how-to-change-color-of-plotted-curves-when-using-animations-in-python-matplotlib\n",
    "\n",
    "%matplotlib qt\n",
    "\n",
    "fig1 = plt.figure()\n",
    "ax1 = fig1.add_subplot(1,1,1)   \n",
    "\n",
    "\n",
    "#l, = plt.plot([], [], 'r-')\n",
    "#plt.xlim(0, 1)\n",
    "#plt.ylim(0, 1)\n",
    "#plt.xlabel('x')\n",
    "#plt.title('test')\n",
    "\n",
    "\n",
    "def update(num):\n",
    "    ax1.clear()\n",
    "    \n",
    "    vis = vis_list[num]\n",
    "    id_train_benign = np.where(vis[:,0] == 0)\n",
    "    id_train_malignant = np.where(vis[:,0] == 1)\n",
    "    \n",
    "    \n",
    "    plt.title('Epoch #{}'.format(num + 1))\n",
    "    plt.xlabel('x')\n",
    "    plt.ylabel('y')\n",
    "\n",
    "    ax1.plot(vis[id_train_benign,1], vis[id_train_benign,2], 'b.')\n",
    "    ax1.plot(vis[id_train_malignant,1], vis[id_train_malignant,2], 'r.')\n",
    "    ax1.plot(vis[id_validation_benign,1], vis[id_validation_benign,2], 'b+')\n",
    "    ax1.plot(vis[id_validation_malignant,1], vis[id_validation_malignant,2], 'r+')\n",
    "\n",
    "line_ani = animation.FuncAnimation(fig1, update, len(vis_list), interval=300, blit=False)\n",
    "\n",
    "#plt.show()\n",
    "# To save the animation, use the command: line_ani.save('lines.mp4')"
   ]
  },
  {
   "cell_type": "code",
   "execution_count": 74,
   "metadata": {},
   "outputs": [
    {
     "data": {
      "image/png": "[encoded data removed]",
      "text/plain": [
       "<Figure size 432x288 with 1 Axes>"
      ]
     },
     "metadata": {
      "needs_background": "light"
     },
     "output_type": "display_data"
    }
   ],
   "source": [
    "# https://matplotlib.org/2.1.2/gallery/animation/basic_example_writer_sgskip.html\n",
    "# https://stackoverflow.com/questions/23856990/cant-save-matplotlib-animation\n",
    "Writer = animation.writers['ffmpeg']\n",
    "writer = Writer(fps=3, metadata=dict(artist='Kry127'), bitrate=1800)\n",
    "\n",
    "line_ani.save('dataset.mp4', writer=writer)"
   ]
  },
  {
   "cell_type": "code",
   "execution_count": null,
   "metadata": {},
   "outputs": [],
   "source": []
  }
 ],
 "metadata": {
  "kernelspec": {
   "display_name": "Python 3",
   "language": "python",
   "name": "python3"
  },
  "language_info": {
   "codemirror_mode": {
    "name": "ipython",
    "version": 3
   },
   "file_extension": ".py",
   "mimetype": "text/x-python",
   "name": "python",
   "nbconvert_exporter": "python",
   "pygments_lexer": "ipython3",
   "version": "3.6.8"
  }
 },
 "nbformat": 4,
 "nbformat_minor": 2
}
