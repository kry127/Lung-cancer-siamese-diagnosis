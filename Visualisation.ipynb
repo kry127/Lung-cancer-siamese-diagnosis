{
 "cells": [
  {
   "cell_type": "code",
   "execution_count": 28,
   "metadata": {},
   "outputs": [],
   "source": [
    "# init\n",
    "import os\n",
    "import numpy as np\n",
    "import matplotlib.pyplot as plt\n",
    "import matplotlib.animation as animation\n",
    "\n",
    "plt.rcParams['animation.ffmpeg_path'] = 'C:/Program Files/ffmpeg/bin/ffmpeg.exe'\n",
    "\n",
    "\n",
    "visualisation_folder = \"Visualisation/10/\""
   ]
  },
  {
   "cell_type": "code",
   "execution_count": 29,
   "metadata": {},
   "outputs": [],
   "source": [
    "visualizations = os.listdir(visualisation_folder)\n",
    "vis_list = map(lambda f: np.loadtxt(os.path.join(visualisation_folder, f)), visualizations)\n",
    "vis_list = list(vis_list)"
   ]
  },
  {
   "cell_type": "code",
   "execution_count": 49,
   "metadata": {},
   "outputs": [
    {
     "data": {
      "image/png": "[encoded data removed]",
      "text/plain": [
       "<Figure size 432x288 with 1 Axes>"
      ]
     },
     "metadata": {
      "needs_background": "light"
     },
     "output_type": "display_data"
    }
   ],
   "source": [
    "# https://matplotlib.org/users/pyplot_tutorial.html\n",
    "%matplotlib inline\n",
    "\n",
    "N = 8\n",
    "vis = vis_list[N]\n",
    "id_train_benign = np.where(vis[:,0] == 0)\n",
    "id_train_malignant = np.where(vis[:,0] == 1)\n",
    "\n",
    "plt.plot(vis[id_train_benign,1], vis[id_train_benign,2], 'bs')\n",
    "plt.plot(vis[id_train_malignant,1], vis[id_train_malignant,2], 'rs')\n",
    "pass"
   ]
  },
  {
   "cell_type": "code",
   "execution_count": 38,
   "metadata": {},
   "outputs": [],
   "source": [
    "# make animation\n",
    "# https://matplotlib.org/2.1.2/gallery/animation/basic_example.html\n",
    "# https://mikulskibartosz.name/interactive-plots-in-jupyter-notebook-55b32b8d143\n",
    "# https://stackoverflow.com/questions/25111040/how-to-change-color-of-plotted-curves-when-using-animations-in-python-matplotlib\n",
    "\n",
    "%matplotlib qt\n",
    "\n",
    "fig1 = plt.figure()\n",
    "ax1 = fig1.add_subplot(1,1,1)   \n",
    "\n",
    "\n",
    "#l, = plt.plot([], [], 'r-')\n",
    "#plt.xlim(0, 1)\n",
    "#plt.ylim(0, 1)\n",
    "#plt.xlabel('x')\n",
    "#plt.title('test')\n",
    "\n",
    "\n",
    "def update(num):\n",
    "    ax1.clear()\n",
    "    \n",
    "    vis = vis_list[num]\n",
    "    id_train_benign = np.where(vis[:,0] == 0)\n",
    "    id_train_malignant = np.where(vis[:,0] == 1)\n",
    "    \n",
    "    \n",
    "    plt.title('Epoch #{}'.format(num + 1))\n",
    "    plt.xlabel('x')\n",
    "    plt.ylabel('y')\n",
    "\n",
    "    ax1.plot(vis[id_train_benign,1], vis[id_train_benign,2], 'bs',\n",
    "             vis[id_train_malignant,1], vis[id_train_malignant,2], 'rs')\n",
    "\n",
    "line_ani = animation.FuncAnimation(fig1, update, 15, interval=3000, blit=False)\n",
    "\n",
    "plt.show()\n",
    "# To save the animation, use the command: line_ani.save('lines.mp4')"
   ]
  },
  {
   "cell_type": "code",
   "execution_count": 39,
   "metadata": {},
   "outputs": [],
   "source": [
    "# https://matplotlib.org/2.1.2/gallery/animation/basic_example_writer_sgskip.html\n",
    "# https://stackoverflow.com/questions/23856990/cant-save-matplotlib-animation\n",
    "Writer = animation.writers['ffmpeg']\n",
    "writer = Writer(fps=1, metadata=dict(artist='Kry127'), bitrate=1800)\n",
    "\n",
    "line_ani.save('dataset.mp4', writer=writer)"
   ]
  },
  {
   "cell_type": "code",
   "execution_count": null,
   "metadata": {},
   "outputs": [],
   "source": []
  }
 ],
 "metadata": {
  "kernelspec": {
   "display_name": "Python 3",
   "language": "python",
   "name": "python3"
  },
  "language_info": {
   "codemirror_mode": {
    "name": "ipython",
    "version": 3
   },
   "file_extension": ".py",
   "mimetype": "text/x-python",
   "name": "python",
   "nbconvert_exporter": "python",
   "pygments_lexer": "ipython3",
   "version": "3.6.8"
  }
 },
 "nbformat": 4,
 "nbformat_minor": 2
}
